{
 "cells": [
  {
   "cell_type": "code",
   "execution_count": 3,
   "metadata": {},
   "outputs": [
    {
     "name": "stderr",
     "output_type": "stream",
     "text": [
      "/anaconda3/lib/python3.6/site-packages/h5py/__init__.py:36: FutureWarning: Conversion of the second argument of issubdtype from `float` to `np.floating` is deprecated. In future, it will be treated as `np.float64 == np.dtype(float).type`.\n",
      "  from ._conv import register_converters as _register_converters\n",
      "Using TensorFlow backend.\n"
     ]
    },
    {
     "name": "stdout",
     "output_type": "stream",
     "text": [
      "Choose one of the following companies to be analyzed (Ford, Nissan, Tesla):Tesla\n",
      "Enter O for the opening stock value, C for the closing stock value, and M for the average value of two:M\n",
      "Enter the number of date (around 30-60) for training datasets for LSTM:50\n",
      "Enter the number of days (less than 200 days) to be analyzed from 26 Arpil 2019:130\n"
     ]
    }
   ],
   "source": [
    "'''\n",
    "Sia Ham, 1730812\n",
    "Rhina Kim,1731848\n",
    "R. Vincent, instructor\n",
    "420-LCW-MS \n",
    "Programming Techniques and Applications\n",
    "Final Project\n",
    "'''\n",
    "\n",
    "from keras.models import Sequential\n",
    "from keras.layers import LSTM, Dense, Dropout\n",
    "import pandas as pd  #read/open csv file (stock market data is in csv file )\n",
    "import numpy as np \n",
    "import matplotlib.pyplot as plt #visualize the data\n",
    "import user #ask company, CO, LSTM_date, date\n",
    "import csv #read the row of the csv file"
   ]
  },
  {
   "cell_type": "code",
   "execution_count": 4,
   "metadata": {},
   "outputs": [],
   "source": [
    "''' read stock market data'''\n",
    "st_data = pd.read_csv('stock_data//' + user.company + '.csv') \n",
    "\n",
    "#Opening prices & Closing prices & Average prices\n",
    "open_price, close_price = st_data['Open'].values,st_data ['Close'].values\n",
    "mid_price = (open_price + close_price)/2\n",
    "\n",
    "#maximum and minumum values will be used to normalize data\n",
    "O_maxi, C_maxi, M_maxi = max(open_price), max(close_price), max(mid_price)\n",
    "O_mini, C_mini, M_mini = min (open_price), min(close_price), min(mid_price)\n",
    "\n",
    "''' opening / closing / average stock value'''\n",
    "if user.CO == 'C': #if the user choose the opening stock value\n",
    "    price = close_price\n",
    "    maxi, mini = C_maxi, C_mini\n",
    "    title = 'Closing'\n",
    "elif user.CO == \"O\": #if the user choose the closing stock value\n",
    "    price = open_price\n",
    "    maxi, mini = O_maxi, O_mini\n",
    "    title = 'Opening'\n",
    "elif user.CO == \"M\": #if the user choose the average stock value\n",
    "    price = mid_price\n",
    "    maxi, mini = M_maxi, M_mini\n",
    "    title = 'Average of Opening and Closing'    \n",
    "else:\n",
    "    print (\"Please enter a valid choice\")"
   ]
  },
  {
   "cell_type": "code",
   "execution_count": 5,
   "metadata": {},
   "outputs": [],
   "source": [
    "'''create windows'''\n",
    "length = user.LSTM_date + 1 #data set of x + 1 days (stored + predicted)\n",
    "windows = [] #inital list for windows\n",
    "for index in range (len(price) - length):\n",
    "        windows.append(price[index:index + length]) \n",
    "        #append every windows, which includes the data of x days and the data of the next day\n",
    "        \n",
    "'''nomalize the data between 0 to 1 using the following equation:\n",
    "(x-min_val)/(max_val-min_val)\n",
    "'''\n",
    "normalized_data = []\n",
    "for wd in windows:    \n",
    "    normalized_window = [(float(p)-mini)/float(maxi-mini)for p in wd]\n",
    "    normalized_data.append (normalized_window)\n",
    "windows = np.array(normalized_data)"
   ]
  },
  {
   "cell_type": "code",
   "execution_count": 6,
   "metadata": {},
   "outputs": [],
   "source": [
    "'''define the size of the data to be tested'''\n",
    "wid_r = windows.shape [0] # number of rows of windows \n",
    "wid_analyzed = (float(1- user.date/wid_r))#ratio of data to be tested = 1 - ration of data to be analyzed\n",
    "size = int(round(wid_r*(wid_analyzed))) #size of data to be tested"
   ]
  },
  {
   "cell_type": "code",
   "execution_count": 7,
   "metadata": {},
   "outputs": [],
   "source": [
    "'''training data'''\n",
    "train = windows [:size,:] #training data\n",
    "np.random.shuffle (train) #shuffle the training data\n",
    "train_x_days = train[:,:-1]  #data of x days\n",
    "train_x_days = np.reshape (train_x_days,(train_x_days.shape[0],train_x_days.shape[1],1))\n",
    "#reshape to have three dimensions of modeling for the fisrt layer\n",
    "train_1_day = train[:,-1] # data of the next 1 day\n",
    "\n",
    "'''testing data'''\n",
    "test_x_days = windows[size:,:-1]  #testing data\n",
    "test_x_days = np.reshape (test_x_days, (test_x_days.shape[0],test_x_days.shape[1],1))\n",
    "\n",
    "#reshape to have three dimensions of modeling (lstm_1)\n",
    "test_1_day = windows[size:,-1] #data of next 1 day\n",
    "test_date = st_data.iloc[size+length:-1] #date of the tested data\n",
    "test_date_start, test_date_end = test_date.iloc[0,0], test_date.iloc[-1,0]\n"
   ]
  },
  {
   "cell_type": "code",
   "execution_count": null,
   "metadata": {},
   "outputs": [
    {
     "name": "stdout",
     "output_type": "stream",
     "text": [
      "_________________________________________________________________\n",
      "Layer (type)                 Output Shape              Param #   \n",
      "=================================================================\n",
      "lstm_4 (LSTM)                (None, 50, 50)            10400     \n",
      "_________________________________________________________________\n",
      "lstm_5 (LSTM)                (None, 50, 50)            20200     \n",
      "_________________________________________________________________\n",
      "lstm_6 (LSTM)                (None, 50)                20200     \n",
      "_________________________________________________________________\n",
      "dense_2 (Dense)              (None, 1)                 51        \n",
      "=================================================================\n",
      "Total params: 50,851\n",
      "Trainable params: 50,851\n",
      "Non-trainable params: 0\n",
      "_________________________________________________________________\n",
      "Train on 1078 samples, validate on 130 samples\n",
      "Epoch 1/20\n",
      "1078/1078 [==============================] - 20s 18ms/step - loss: 0.0170 - val_loss: 0.0319\n",
      "Epoch 2/20\n",
      "1078/1078 [==============================] - 16s 15ms/step - loss: 0.0079 - val_loss: 0.0174\n",
      "Epoch 3/20\n",
      " 210/1078 [====>.........................] - ETA: 12s - loss: 0.0074"
     ]
    }
   ],
   "source": [
    "'''builing a mondel\n",
    "\n",
    "stack 3 LSTM layers on top of each other, \n",
    "making the model capable of learning higher-level temporal representations.\n",
    "\n",
    "The first two LSTMs return their full output sequences, \n",
    "but the last one returns the last step in its output sequence \n",
    "by converting the input sequence into a single vector.\n",
    "(keras Documentation)\n",
    "'''\n",
    "\n",
    "model = Sequential()\n",
    "# create a Sequential model by passing a list of layer instances to the constructor\n",
    "#fisrt layer receives the information about its input shape\n",
    "#In input_shape, the batch dimension is not included\n",
    "#Setting return_sequences to True is necessary in order to obtain the full sequence as the ouput\n",
    "\n",
    "\n",
    "model.add(LSTM(user.LSTM_date, return_sequences = True, input_shape = (user.LSTM_date,1))) \n",
    "# returns a sequence of vectors of dimension user.LSTM_date\n",
    "'''Pass an input_shape argument to the first layer\n",
    "so that the model knows what the input shape it should expect. \n",
    "(following layers can do automatic shape inference) needs to receive\n",
    "information about its input shape. \n",
    "'''\n",
    "model.add(LSTM(user.LSTM_date,return_sequences = True)) \n",
    "model.add(LSTM(user.LSTM_date,return_sequences = False)) \n",
    "# return a single vector of dimension user.LSTM_date \n",
    "\n",
    "model.add(Dense(1,activation = \"linear\")) \n",
    "#output = the next one day after x days\n",
    "\n",
    "model.compile (loss = \"mse\",optimizer = \"rmsprop\") \n",
    "#obtain loss using mean square error\n",
    "#use RMSProp optimizer as it is recommened for the recurrent neural networks.\n",
    "\n",
    "\n",
    "model.summary() #50개가 들어가서 한개가 나온다 \n",
    "'''traing the model'''\n",
    "model.fit (train_x_days, train_1_day, \n",
    "          validation_data = (test_x_days,test_1_day),\n",
    "           batch_size = 10, #number of grouped data\n",
    "           epochs = 20) #number of repetition"
   ]
  },
  {
   "cell_type": "code",
   "execution_count": null,
   "metadata": {},
   "outputs": [],
   "source": [
    "figure = plt.figure (facecolor = \"white\")\n",
    "ax = figure.add_subplot(1,1,1)\n",
    "ax.plot (test_1_day, label = \"original data\")\n",
    "ax.plot (model.predict(test_x_days),label = \" predicted data\")\n",
    "ax.set_xlabel(str(user.date) + ' days ')\n",
    "ax.set_ylabel('nomralized stock value')\n",
    "ax.set_title(user.company + \n",
    "             ' ('+ str(test_date_start) + ' to ' + str(test_date_end) +')' + \n",
    "             '\\n'+ title + ' Stock Values')\n",
    "ax.legend()\n",
    "plt.show()"
   ]
  },
  {
   "cell_type": "code",
   "execution_count": null,
   "metadata": {},
   "outputs": [],
   "source": []
  }
 ],
 "metadata": {
  "kernelspec": {
   "display_name": "Python 3",
   "language": "python",
   "name": "python3"
  },
  "language_info": {
   "codemirror_mode": {
    "name": "ipython",
    "version": 3
   },
   "file_extension": ".py",
   "mimetype": "text/x-python",
   "name": "python",
   "nbconvert_exporter": "python",
   "pygments_lexer": "ipython3",
   "version": "3.6.5"
  }
 },
 "nbformat": 4,
 "nbformat_minor": 2
}
